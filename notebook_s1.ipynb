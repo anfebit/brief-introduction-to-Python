{
 "cells": [
  {
   "cell_type": "markdown",
   "metadata": {
    "tags": []
   },
   "source": [
    "# <center> Welcome to a brief introduction to Python"
   ]
  },
  {
   "cell_type": "markdown",
   "metadata": {
    "tags": []
   },
   "source": [
    "<center>\n",
    "    <img src=\"../images/python_logo.png\" style=\"width: 400px;\"/>\n",
    "</center>"
   ]
  },
  {
   "cell_type": "markdown",
   "metadata": {},
   "source": [
    "Python is a popular programming language. It was created by Guido van Rossum, and released in 1991.\n",
    "It is used for:\n",
    "\n",
    "- web development (server-side),\n",
    "- software development,\n",
    "- mathematics,\n",
    "- system scripting."
   ]
  },
  {
   "cell_type": "markdown",
   "metadata": {},
   "source": [
    "Let's discuss the language openly. Python allows 4 different coding styles. \n",
    "Imperative, which focus on how the program operates, taking a careful look to the state of variables in each iteration\n",
    "Functional, which treats everything like a math equation, mutable data can be avoided. Functional works well for parallel programming since there is no state to consider. \n",
    "Object-oriented, which focus in ability to reuse code and make it easier to understand. The encapsulation allows developers to treat code as a black box. \n",
    "Procedural, such style relies on procedure calls to create modularized code. This approach simplifies your application code by breaking it into small pieces that a developer can view easily.\n",
    "\n",
    "The previous styles are just for information purpose, Python does not force to choose one style, in fact. At the end of any application, you will end having a mix of each style. Nevertheless, it is good to keep in mind what Python is capable of. \n",
    "\n",
    "Also, you will heard the following when Python arises in a conversation. \"Everything in Python is an object\". An object is an entity that contains data along with associated metadata or functionality, also, it can be subclassed. While the previous definition of an object applies in some programming languages, in Python the definition is a little bit looser, as some objects have neither attributes nor methods and also not all objects can be subclassed."
   ]
  },
  {
   "cell_type": "markdown",
   "metadata": {},
   "source": [
    "To check all the methods and attributes of an object, the `dir()` built-in function can be used in Python. "
   ]
  },
  {
   "cell_type": "code",
   "execution_count": 10,
   "metadata": {},
   "outputs": [
    {
     "data": {
      "text/plain": [
       "['__abs__',\n",
       " '__add__',\n",
       " '__and__',\n",
       " '__bool__',\n",
       " '__ceil__',\n",
       " '__class__',\n",
       " '__delattr__',\n",
       " '__dir__',\n",
       " '__divmod__',\n",
       " '__doc__',\n",
       " '__eq__',\n",
       " '__float__',\n",
       " '__floor__',\n",
       " '__floordiv__',\n",
       " '__format__',\n",
       " '__ge__',\n",
       " '__getattribute__',\n",
       " '__getnewargs__',\n",
       " '__gt__',\n",
       " '__hash__',\n",
       " '__index__',\n",
       " '__init__',\n",
       " '__init_subclass__',\n",
       " '__int__',\n",
       " '__invert__',\n",
       " '__le__',\n",
       " '__lshift__',\n",
       " '__lt__',\n",
       " '__mod__',\n",
       " '__mul__',\n",
       " '__ne__',\n",
       " '__neg__',\n",
       " '__new__',\n",
       " '__or__',\n",
       " '__pos__',\n",
       " '__pow__',\n",
       " '__radd__',\n",
       " '__rand__',\n",
       " '__rdivmod__',\n",
       " '__reduce__',\n",
       " '__reduce_ex__',\n",
       " '__repr__',\n",
       " '__rfloordiv__',\n",
       " '__rlshift__',\n",
       " '__rmod__',\n",
       " '__rmul__',\n",
       " '__ror__',\n",
       " '__round__',\n",
       " '__rpow__',\n",
       " '__rrshift__',\n",
       " '__rshift__',\n",
       " '__rsub__',\n",
       " '__rtruediv__',\n",
       " '__rxor__',\n",
       " '__setattr__',\n",
       " '__sizeof__',\n",
       " '__str__',\n",
       " '__sub__',\n",
       " '__subclasshook__',\n",
       " '__truediv__',\n",
       " '__trunc__',\n",
       " '__xor__',\n",
       " 'as_integer_ratio',\n",
       " 'bit_length',\n",
       " 'conjugate',\n",
       " 'denominator',\n",
       " 'from_bytes',\n",
       " 'imag',\n",
       " 'numerator',\n",
       " 'real',\n",
       " 'to_bytes']"
      ]
     },
     "execution_count": 10,
     "metadata": {},
     "output_type": "execute_result"
    }
   ],
   "source": [
    "number_int = 0\n",
    "dir(number_int)"
   ]
  },
  {
   "cell_type": "markdown",
   "metadata": {},
   "source": [
    "As you noticed, there are some methods that are composed with `__<method>__`. These are called magic or dundeer methods, these will be discussed later"
   ]
  },
  {
   "cell_type": "markdown",
   "metadata": {},
   "source": [
    "Furthermore, a very important distiction that will save you hours of coding and debugging, is chosing the right representation for the the task, the very basic and fundamental distiction is with mutable and inmutable data types. Mutable are those data structures that can be changed and modified, which is the opposite to inmutable objects. We will discuss them later on in the function section. But also, we will discuss the basic variables that python allows, we will see some properties of each of them."
   ]
  },
  {
   "cell_type": "markdown",
   "metadata": {},
   "source": [
    "# Variables"
   ]
  },
  {
   "cell_type": "code",
   "execution_count": 11,
   "metadata": {},
   "outputs": [],
   "source": [
    "name_of_the_tutor = (\"Andres\", \"Felipe\", \"Echeverri\") #Tuple of strings"
   ]
  },
  {
   "cell_type": "code",
   "execution_count": 12,
   "metadata": {},
   "outputs": [],
   "source": [
    "age = 36 #int"
   ]
  },
  {
   "cell_type": "code",
   "execution_count": 13,
   "metadata": {},
   "outputs": [],
   "source": [
    "fruits_that_i_like = [\"apple\", \"percimon\"] #list of strings"
   ]
  },
  {
   "cell_type": "code",
   "execution_count": 14,
   "metadata": {},
   "outputs": [],
   "source": [
    "variables = {\"name_of_the_turor\" : name_of_the_tutor, \"age\": age, \"fruits_that_i_like\" :fruits_that_i_like } #dictionary"
   ]
  },
  {
   "cell_type": "code",
   "execution_count": 15,
   "metadata": {},
   "outputs": [
    {
     "name": "stdout",
     "output_type": "stream",
     "text": [
      "let's see the value : {'name_of_the_turor': ('Andres', 'Felipe', 'Echeverri'), 'age': 36, 'fruits_that_i_like': ['apple', 'percimon']}\n"
     ]
    }
   ],
   "source": [
    " print(f\"let's see the value : {variables}\")"
   ]
  },
  {
   "cell_type": "markdown",
   "metadata": {},
   "source": [
    "Are the other Python collections? The answer is yes, there are many more, the most used ones are below:\n",
    "\n",
    "- List is a collection which is ordered and changeable. Allows duplicate members.\n",
    "- Tuple is a collection which is ordered and unchangeable. Allows duplicate members.\n",
    "- Set is a collection which is unordered, unchangeable*, and unindexed. No duplicate members.\n",
    "- Dictionary is a collection which is ordered** and changeable. No duplicate members."
   ]
  },
  {
   "cell_type": "markdown",
   "metadata": {},
   "source": [
    "## List"
   ]
  },
  {
   "cell_type": "markdown",
   "metadata": {},
   "source": [
    "Some of the properties of list are below: \n",
    "- Ordered\n",
    "- Start in [0] and the last item is n -1, where n is the length of the list.\n",
    "- Changeable\n",
    "- Allow Duplicates"
   ]
  },
  {
   "cell_type": "code",
   "execution_count": 16,
   "metadata": {},
   "outputs": [
    {
     "name": "stdout",
     "output_type": "stream",
     "text": [
      "there are 6 fruits in the list\n"
     ]
    }
   ],
   "source": [
    "list_of_fruits = [\"apple\", \"banana\", \"cherry\", \"apple\", \"cherry\", \"percimon\"]\n",
    "print(f\"there are {len(list_of_fruits)} fruits in the list\")"
   ]
  },
  {
   "cell_type": "code",
   "execution_count": 17,
   "metadata": {},
   "outputs": [
    {
     "name": "stdout",
     "output_type": "stream",
     "text": [
      "the first item is apple and the last is percimon\n"
     ]
    }
   ],
   "source": [
    "print(f\"the first item is {list_of_fruits[0]} and the last is {list_of_fruits[-1]}\")"
   ]
  },
  {
   "cell_type": "markdown",
   "metadata": {},
   "source": [
    "What about if I want to use just a range of the list?"
   ]
  },
  {
   "cell_type": "code",
   "execution_count": 18,
   "metadata": {},
   "outputs": [
    {
     "name": "stdout",
     "output_type": "stream",
     "text": [
      "A range of the fruits ['cherry', 'apple', 'cherry']\n"
     ]
    }
   ],
   "source": [
    "print(f\"A range of the fruits {list_of_fruits[2:5]}\")"
   ]
  },
  {
   "cell_type": "markdown",
   "metadata": {},
   "source": [
    "Let's change an item "
   ]
  },
  {
   "cell_type": "code",
   "execution_count": 19,
   "metadata": {},
   "outputs": [],
   "source": [
    "list_of_fruits[0] = \"orange\""
   ]
  },
  {
   "cell_type": "code",
   "execution_count": 20,
   "metadata": {},
   "outputs": [
    {
     "name": "stdout",
     "output_type": "stream",
     "text": [
      "the new list is ['orange', 'banana', 'cherry', 'apple', 'cherry', 'percimon']\n"
     ]
    }
   ],
   "source": [
    "print(f\"the new list is {list_of_fruits}\")"
   ]
  },
  {
   "cell_type": "markdown",
   "metadata": {},
   "source": [
    "Add an item ad the beginning and at the end of the list "
   ]
  },
  {
   "cell_type": "code",
   "execution_count": 21,
   "metadata": {},
   "outputs": [
    {
     "name": "stdout",
     "output_type": "stream",
     "text": [
      "the new list is ['melon', 'orange', 'banana', 'cherry', 'apple', 'cherry', 'percimon', 'grape']\n"
     ]
    }
   ],
   "source": [
    "list_of_fruits.append(\"grape\")\n",
    "list_of_fruits.insert(0, \"melon\")\n",
    "print(f\"the new list is {list_of_fruits}\")"
   ]
  },
  {
   "cell_type": "markdown",
   "metadata": {},
   "source": [
    "Can I concatenate two or more list?"
   ]
  },
  {
   "cell_type": "code",
   "execution_count": 22,
   "metadata": {},
   "outputs": [
    {
     "name": "stdout",
     "output_type": "stream",
     "text": [
      "the new list is ['melon', 'orange', 'banana', 'cherry', 'apple', 'cherry', 'percimon', 'grape', 'Apricots', 'Avocado', 1, 2, 3]\n"
     ]
    }
   ],
   "source": [
    "new_list = [\"Apricots\", \"Avocado\"]\n",
    "list_of_fruits.extend(new_list)\n",
    "list_of_fruits.extend([1, 2, 3])\n",
    "print(f\"the new list is {list_of_fruits}\")"
   ]
  },
  {
   "cell_type": "markdown",
   "metadata": {},
   "source": [
    "Are there more list methods? Please find them below:\n",
    "List Methods\n",
    "Python has a set of built-in methods that you can use on lists.\n",
    "\n",
    "Method\tDescription\n",
    "- append()\tAdds an element at the end of the list\n",
    "- clear()\tRemoves all the elements from the list\n",
    "- copy()\tReturns a copy of the list\n",
    "- count()\tReturns the number of elements with the specified value\n",
    "- extend()\tAdd the elements of a list (or any iterable), to the end of the current list\n",
    "- index()\tReturns the index of the first element with the specified value\n",
    "- insert()\tAdds an element at the specified position\n",
    "- pop()\tRemoves the element at the specified position\n",
    "- remove()\tRemoves the item with the specified value\n",
    "- reverse()\tReverses the order of the list\n",
    "- sort()\tSorts the list"
   ]
  },
  {
   "cell_type": "markdown",
   "metadata": {},
   "source": [
    "## Tuple "
   ]
  },
  {
   "cell_type": "markdown",
   "metadata": {},
   "source": [
    "Some of the properties of tuple are below: \n",
    "- Ordered\n",
    "- Start in [0] and the last item is n -1, where n is the length of the tuple.\n",
    "- Unchangable\n",
    "- Allow Duplicates"
   ]
  },
  {
   "cell_type": "markdown",
   "metadata": {},
   "source": [
    "While tuples are widely used, they lack a special feature which is that a tuple can't be changed, this mean that a tuple is a mutable object in python."
   ]
  },
  {
   "cell_type": "code",
   "execution_count": 23,
   "metadata": {},
   "outputs": [
    {
     "name": "stdout",
     "output_type": "stream",
     "text": [
      "fruits that I like : ('apple', 'banana', 'cherry', 'apple', 'cherry', 'percimon')\n"
     ]
    }
   ],
   "source": [
    "tuple_of_fruits = (\"apple\", \"banana\", \"cherry\", \"apple\", \"cherry\", \"percimon\")\n",
    "print(f\"fruits that I like : {tuple_of_fruits}\")"
   ]
  },
  {
   "cell_type": "code",
   "execution_count": 24,
   "metadata": {},
   "outputs": [
    {
     "ename": "TypeError",
     "evalue": "'tuple' object does not support item assignment",
     "output_type": "error",
     "traceback": [
      "\u001b[0;31m---------------------------------------------------------------------------\u001b[0m",
      "\u001b[0;31mTypeError\u001b[0m                                 Traceback (most recent call last)",
      "Input \u001b[0;32mIn [24]\u001b[0m, in \u001b[0;36m<module>\u001b[0;34m\u001b[0m\n\u001b[0;32m----> 1\u001b[0m tuple_of_fruits[\u001b[38;5;241m0\u001b[39m] \u001b[38;5;241m=\u001b[39m \u001b[38;5;124m\"\u001b[39m\u001b[38;5;124mclementine\u001b[39m\u001b[38;5;124m\"\u001b[39m\n",
      "\u001b[0;31mTypeError\u001b[0m: 'tuple' object does not support item assignment"
     ]
    }
   ],
   "source": [
    "tuple_of_fruits[0] = \"clementine\""
   ]
  },
  {
   "cell_type": "markdown",
   "metadata": {},
   "source": [
    "Now, tuples are used when speed is required and data don't need to be changed, but the defacto and mostly used is list. "
   ]
  },
  {
   "cell_type": "markdown",
   "metadata": {},
   "source": [
    "## Set"
   ]
  },
  {
   "cell_type": "markdown",
   "metadata": {},
   "source": [
    "Some of the properties of sets are below: \n",
    "- Unordered\n",
    "- Unchangable, with a small caveat. You can add and remove items, but itmes can't be changed. \n",
    "- Unindexed "
   ]
  },
  {
   "cell_type": "code",
   "execution_count": 25,
   "metadata": {},
   "outputs": [
    {
     "name": "stdout",
     "output_type": "stream",
     "text": [
      "fruits that I like : {'percimon', 'apple', 'banana', 'cherry'}\n"
     ]
    }
   ],
   "source": [
    "set_of_fruits = {\"apple\", \"banana\", \"cherry\", \"apple\", \"cherry\", \"percimon\"}\n",
    "print(f\"fruits that I like : {set_of_fruits}\")"
   ]
  },
  {
   "cell_type": "markdown",
   "metadata": {},
   "source": [
    "Did you notice that there are some a missing fruit there? That's because it follows the mathematical definition of a set, which a a set is a collection of well defined and distinct objects. That's why a set does not allow duplicates."
   ]
  },
  {
   "cell_type": "markdown",
   "metadata": {},
   "source": [
    "<center>\n",
    "    <img src=\"../images/question_mark.png\" style=\"width: 200px;\"/>\n",
    "</center>"
   ]
  },
  {
   "cell_type": "markdown",
   "metadata": {},
   "source": [
    "Let's assume that I have the following list of numbers"
   ]
  },
  {
   "cell_type": "code",
   "execution_count": 26,
   "metadata": {},
   "outputs": [],
   "source": [
    "list_of_numbers = [4,334,21,243,4,4,4,2,2,3,4,2,12,2,6,7,8,9,10,21,32,42,12,12,432]"
   ]
  },
  {
   "cell_type": "markdown",
   "metadata": {},
   "source": [
    "How I could remove the duplicates and order it? "
   ]
  },
  {
   "cell_type": "code",
   "execution_count": 27,
   "metadata": {},
   "outputs": [
    {
     "name": "stdout",
     "output_type": "stream",
     "text": [
      "the new list is [2, 3, 4, 6, 7, 8, 9, 10, 12, 21, 32, 42, 243, 334, 432]\n"
     ]
    }
   ],
   "source": [
    "new_list = sorted(list(set(list_of_numbers)))\n",
    "print(f\"the new list is {new_list}\")"
   ]
  },
  {
   "cell_type": "markdown",
   "metadata": {},
   "source": [
    "Find below some of the set's methods available\n",
    "\n",
    "- Method\tDescription\n",
    "- add()\tAdds an element to the set\n",
    "- clear()\tRemoves all the elements from the set\n",
    "- copy()\tReturns a copy of the set\n",
    "- difference()\tReturns a set containing the difference between two or more sets\n",
    "- difference_update()\tRemoves the items in this set that are also included in another, specified set\n",
    "- discard()\tRemove the specified item\n",
    "- intersection()\tReturns a set, that is the intersection of two other sets\n",
    "- intersection_update()\tRemoves the items in this set that are not present in other, specified set(s)\n",
    "- isdisjoint()\tReturns whether two sets have a intersection or not\n",
    "- issubset()\tReturns whether another set contains this set or not\n",
    "- issuperset()\tReturns whether this set contains another set or not\n",
    "- pop()\tRemoves an element from the set\n",
    "- remove()\tRemoves the specified element\n",
    "- symmetric_difference()\tReturns a set with the symmetric differences of two sets\n",
    "- symmetric_difference_update()\tinserts the symmetric differences from this set and another\n",
    "- union()\tReturn a set containing the union of sets\n",
    "- update()\n",
    "\n",
    "Let's try some of them. "
   ]
  },
  {
   "cell_type": "code",
   "execution_count": 28,
   "metadata": {},
   "outputs": [
    {
     "name": "stdout",
     "output_type": "stream",
     "text": [
      "the union is {3, 4, 5, 12}\n",
      "the difference is {12}\n",
      "the intersection is {3, 4}\n",
      "is subset? False\n"
     ]
    }
   ],
   "source": [
    "set_1 = {12, 3, 4}\n",
    "set_2 = {3, 4, 5, 3}\n",
    "\n",
    "print(f\"the union is {set_1.union(set_2)}\")\n",
    "print(f\"the difference is {set_1.difference(set_2)}\")\n",
    "print(f\"the intersection is {set_1.intersection(set_2)}\")\n",
    "print(f\"is subset? {set_1.issubset(set_2)}\")"
   ]
  },
  {
   "cell_type": "markdown",
   "metadata": {},
   "source": [
    "<center>\n",
    "    <img src=\"../images/question_mark.png\" style=\"width: 200px;\"/>\n",
    "</center>"
   ]
  },
  {
   "cell_type": "markdown",
   "metadata": {},
   "source": [
    "Let's assume that several request brought the following 2 list."
   ]
  },
  {
   "cell_type": "code",
   "execution_count": 29,
   "metadata": {},
   "outputs": [],
   "source": [
    "username = [\"Arthur\", \"Anna\", \"Bill\", \"Alex\", \"Bonnie\", \"Collin\", \"Cindy\", \"Renne\", \"Harvey\", \"Nicholas\"]\n",
    "app_user = [\"Nicholas\", \"Henri\", \"Bill\", \"Alex\", \"Bonnie\", \"Victor\", \"Teddy\", \"Rene\", \"Vicky\", \"Teresa\", \"Walter\", \"Oscar\", \"Patty\"]"
   ]
  },
  {
   "cell_type": "markdown",
   "metadata": {},
   "source": [
    "The API developer would like to see which are the names that exist in both list."
   ]
  },
  {
   "cell_type": "markdown",
   "metadata": {},
   "source": [
    "<center>\n",
    "    <img src=\"../images/set.png\" style=\"width: 400px;\"/>\n",
    "</center>"
   ]
  },
  {
   "cell_type": "code",
   "execution_count": 30,
   "metadata": {},
   "outputs": [
    {
     "name": "stdout",
     "output_type": "stream",
     "text": [
      "Names that exist in both list : {'Bonnie', 'Nicholas', 'Alex', 'Bill'}\n"
     ]
    }
   ],
   "source": [
    "set_username = set(username)\n",
    "set_app_user = set(app_user)\n",
    "#Let's find out which are the ones that exist in both list\n",
    "print(f\"Names that exist in both list : {set_username & set_app_user}\")"
   ]
  },
  {
   "cell_type": "markdown",
   "metadata": {},
   "source": [
    "## Dictionary"
   ]
  },
  {
   "cell_type": "markdown",
   "metadata": {},
   "source": [
    "Some of the properties of dictionaries are below: \n",
    "- Ordered, as Python 3.7, earlier versions dictionaries are unordered.\n",
    "- Data stored in a key value pair \n",
    "- Data can be changed, it is mutable"
   ]
  },
  {
   "cell_type": "code",
   "execution_count": 31,
   "metadata": {},
   "outputs": [
    {
     "name": "stdout",
     "output_type": "stream",
     "text": [
      "The lenght of the dictionary is 6\n"
     ]
    }
   ],
   "source": [
    "from pprint import pp\n",
    "api_response = {\n",
    "    \"title\": \"Python Basics\",\n",
    "    \"page_count\": 635,\n",
    "    \"pub_date\": \"2021-03-16\",\n",
    "    \"authors\": [\n",
    "        {\"name\": \"David Amos\"},\n",
    "        {\"name\": \"Joanna Jablonski\"},\n",
    "        {\"name\": \"Dan Bader\"},\n",
    "        {\"name\": \"Fletcher Heisler\"}\n",
    "    ],\n",
    "    \"isbn13\": \"978-1775093329\",\n",
    "    \"genre\": \"Education\"\n",
    "}\n",
    "print(f\"The lenght of the dictionary is {len(api_response)}\")"
   ]
  },
  {
   "cell_type": "code",
   "execution_count": 32,
   "metadata": {},
   "outputs": [
    {
     "name": "stdout",
     "output_type": "stream",
     "text": [
      "The items of the response are : dict_values(['Python Basics', 635, '2021-03-16', [{'name': 'David Amos'}, {'name': 'Joanna Jablonski'}, {'name': 'Dan Bader'}, {'name': 'Fletcher Heisler'}], '978-1775093329', 'Education'])\n"
     ]
    }
   ],
   "source": [
    "\n",
    "print(f\"The items of the response are : {api_response.values()}\") # it returns a list with the values"
   ]
  },
  {
   "cell_type": "code",
   "execution_count": 33,
   "metadata": {},
   "outputs": [
    {
     "name": "stdout",
     "output_type": "stream",
     "text": [
      "The items of the response are : dict_keys(['title', 'page_count', 'pub_date', 'authors', 'isbn13', 'genre'])\n"
     ]
    }
   ],
   "source": [
    "print(f\"The items of the response are : {api_response.keys()}\") # it returns a list with the keys"
   ]
  },
  {
   "cell_type": "markdown",
   "metadata": {},
   "source": [
    "How can I acces the authors? "
   ]
  },
  {
   "cell_type": "code",
   "execution_count": 34,
   "metadata": {},
   "outputs": [
    {
     "name": "stdout",
     "output_type": "stream",
     "text": [
      "the authors are [{'name': 'David Amos'}, {'name': 'Joanna Jablonski'}, {'name': 'Dan Bader'}, {'name': 'Fletcher Heisler'}]\n"
     ]
    }
   ],
   "source": [
    "print(f\"the authors are {api_response.get('authors')}\")"
   ]
  },
  {
   "cell_type": "markdown",
   "metadata": {},
   "source": [
    "Let's suppose there is a single 'author' key that does not exits, what would happen if accessing the dictionary fails? "
   ]
  },
  {
   "cell_type": "code",
   "execution_count": 35,
   "metadata": {},
   "outputs": [
    {
     "name": "stdout",
     "output_type": "stream",
     "text": [
      "the authors are None\n"
     ]
    }
   ],
   "source": [
    "print(f\"the authors are {api_response.get('author')}\")"
   ]
  },
  {
   "cell_type": "code",
   "execution_count": 36,
   "metadata": {},
   "outputs": [
    {
     "ename": "KeyError",
     "evalue": "'author'",
     "output_type": "error",
     "traceback": [
      "\u001b[0;31m---------------------------------------------------------------------------\u001b[0m",
      "\u001b[0;31mKeyError\u001b[0m                                  Traceback (most recent call last)",
      "Input \u001b[0;32mIn [36]\u001b[0m, in \u001b[0;36m<module>\u001b[0;34m\u001b[0m\n\u001b[0;32m----> 1\u001b[0m \u001b[38;5;28mprint\u001b[39m(\u001b[38;5;124mf\u001b[39m\u001b[38;5;124m\"\u001b[39m\u001b[38;5;124mthe authors are \u001b[39m\u001b[38;5;132;01m{\u001b[39;00mapi_response[\u001b[38;5;124m'\u001b[39m\u001b[38;5;124mauthor\u001b[39m\u001b[38;5;124m'\u001b[39m]\u001b[38;5;132;01m}\u001b[39;00m\u001b[38;5;124m\"\u001b[39m)\n",
      "\u001b[0;31mKeyError\u001b[0m: 'author'"
     ]
    }
   ],
   "source": [
    "print(f\"the authors are {api_response['author']}\")"
   ]
  },
  {
   "cell_type": "markdown",
   "metadata": {},
   "source": [
    "It is safer to use get method when working with dictionaries, both are valid. "
   ]
  },
  {
   "cell_type": "code",
   "execution_count": 37,
   "metadata": {},
   "outputs": [],
   "source": [
    "api_response.update({\"title\": \"A brief introduction to Python\"})"
   ]
  },
  {
   "cell_type": "code",
   "execution_count": 38,
   "metadata": {},
   "outputs": [
    {
     "name": "stdout",
     "output_type": "stream",
     "text": [
      "{'title': 'A brief introduction to Python',\n",
      " 'page_count': 635,\n",
      " 'pub_date': '2021-03-16',\n",
      " 'authors': [{'name': 'David Amos'},\n",
      "             {'name': 'Joanna Jablonski'},\n",
      "             {'name': 'Dan Bader'},\n",
      "             {'name': 'Fletcher Heisler'}],\n",
      " 'isbn13': '978-1775093329',\n",
      " 'genre': 'Education'}\n"
     ]
    }
   ],
   "source": [
    "pp(api_response)"
   ]
  },
  {
   "cell_type": "markdown",
   "metadata": {},
   "source": [
    "But also, the following is possible"
   ]
  },
  {
   "cell_type": "code",
   "execution_count": 39,
   "metadata": {},
   "outputs": [
    {
     "name": "stdout",
     "output_type": "stream",
     "text": [
      "{'title': 'A brief introduction to Python vol.2',\n",
      " 'page_count': 635,\n",
      " 'pub_date': '2021-03-16',\n",
      " 'authors': [{'name': 'David Amos'},\n",
      "             {'name': 'Joanna Jablonski'},\n",
      "             {'name': 'Dan Bader'},\n",
      "             {'name': 'Fletcher Heisler'}],\n",
      " 'isbn13': '978-1775093329',\n",
      " 'genre': 'Education'}\n"
     ]
    }
   ],
   "source": [
    "api_response[\"title\"] = \"A brief introduction to Python vol.2\"\n",
    "pp(api_response)"
   ]
  },
  {
   "cell_type": "markdown",
   "metadata": {},
   "source": [
    "Which one is better, which is a more pythonic way to do it? To avoid verbose, the best way is `dictionary[\"key\"] = <new_value>` . Some comments in stackoverflow argue that `.update` is way to slow. But on the other hand, if you are working with objects, the right thing would be to use its methods. "
   ]
  },
  {
   "cell_type": "markdown",
   "metadata": {},
   "source": [
    "How to delete a key/value pair from the dictionary, it is possible to do it using del method. "
   ]
  },
  {
   "cell_type": "code",
   "execution_count": 40,
   "metadata": {},
   "outputs": [
    {
     "name": "stdout",
     "output_type": "stream",
     "text": [
      "{'title': 'A brief introduction to Python vol.2',\n",
      " 'page_count': 635,\n",
      " 'pub_date': '2021-03-16',\n",
      " 'authors': [{'name': 'David Amos'},\n",
      "             {'name': 'Joanna Jablonski'},\n",
      "             {'name': 'Dan Bader'},\n",
      "             {'name': 'Fletcher Heisler'}],\n",
      " 'genre': 'Education'}\n"
     ]
    }
   ],
   "source": [
    "del api_response[\"isbn13\"]\n",
    "pp(api_response)\n"
   ]
  },
  {
   "cell_type": "markdown",
   "metadata": {},
   "source": [
    "Find below some of the dictionarie's methods available\n",
    "\n",
    "- Method\tDescription\n",
    "- clear()\tRemoves all the elements from the dictionary\n",
    "- copy()\tReturns a copy of the dictionary\n",
    "- fromkeys()\tReturns a dictionary with the specified keys and value\n",
    "- get()\tReturns the value of the specified key\n",
    "- items()\tReturns a list containing a tuple for each key value pair\n",
    "- keys()\tReturns a list containing the dictionary's keys\n",
    "- pop()\tRemoves the element with the specified key\n",
    "- popitem()\tRemoves the last inserted key-value pair\n",
    "- setdefault()\tReturns the value of the specified key. If the key does not exist: insert the key, with the specified value\n",
    "- update()\tUpdates the dictionary with the specified key-value pairs\n",
    "- values()\tReturns a list of all the values in the dictionary"
   ]
  },
  {
   "cell_type": "markdown",
   "metadata": {},
   "source": [
    "## Loops"
   ]
  },
  {
   "cell_type": "markdown",
   "metadata": {},
   "source": [
    "There are two primite loops in python\n",
    "- while loops\n",
    "- for loops\n",
    "\n",
    "The syntax is as follow:\n",
    "```python\n",
    "while expression:\n",
    "    statement(s)\n",
    "\n",
    "\n",
    "for iterator_var in sequence:\n",
    "    statements(s)\n",
    "```   \n",
    "    \n",
    "Loops can work with List, Tuple, dictionaries, and pretty much with a iterable object. A way to check if an object is iterble in python, is using the dundeer or magic method __iter__. Hang on there, we will discuss them later. "
   ]
  },
  {
   "cell_type": "code",
   "execution_count": 41,
   "metadata": {},
   "outputs": [
    {
     "name": "stdout",
     "output_type": "stream",
     "text": [
      "Andres F Echevrri is iterable\n"
     ]
    }
   ],
   "source": [
    "name_of_the_tutor = \"Andres F Echevrri\"\n",
    "if hasattr(name_of_the_tutor, '__iter__'):\n",
    "  print(f'{name_of_the_tutor} is iterable')"
   ]
  },
  {
   "cell_type": "markdown",
   "metadata": {},
   "source": [
    "What about another Que is another data structure in Python that will be discussed later on."
   ]
  },
  {
   "cell_type": "code",
   "execution_count": 42,
   "metadata": {},
   "outputs": [
    {
     "name": "stdout",
     "output_type": "stream",
     "text": [
      "It is not iterable\n"
     ]
    }
   ],
   "source": [
    "import queue\n",
    "q = queue.Queue([1,2,3,224,23242])\n",
    "if hasattr(q, '__iter__'):\n",
    "  print(f\"{q} is iterable\")\n",
    "else:\n",
    "    print(\"It is not iterable\")\n"
   ]
  },
  {
   "cell_type": "markdown",
   "metadata": {},
   "source": [
    "For now, let's dicuss the basic data structures. Let's work again with the fruits. "
   ]
  },
  {
   "cell_type": "code",
   "execution_count": 43,
   "metadata": {},
   "outputs": [
    {
     "name": "stdout",
     "output_type": "stream",
     "text": [
      "I like apple\n",
      "I like banana\n",
      "I like cherry\n",
      "I like apple\n",
      "I like cherry\n",
      "I like percimon\n"
     ]
    }
   ],
   "source": [
    "list_of_fruits = [\"apple\", \"banana\", \"cherry\", \"apple\", \"cherry\", \"percimon\"]\n",
    "for fruit in list_of_fruits:\n",
    "    print(f\"I like {fruit}\")"
   ]
  },
  {
   "cell_type": "markdown",
   "metadata": {},
   "source": [
    "What about if I also need the index of the fruit? Several ways can be implemented. I find particually useful the following approach. "
   ]
  },
  {
   "cell_type": "code",
   "execution_count": 44,
   "metadata": {},
   "outputs": [
    {
     "name": "stdout",
     "output_type": "stream",
     "text": [
      "apple is located in 0 index\n",
      "banana is located in 1 index\n",
      "cherry is located in 2 index\n",
      "apple is located in 3 index\n",
      "cherry is located in 4 index\n",
      "percimon is located in 5 index\n"
     ]
    }
   ],
   "source": [
    "for index_fruit, fruit in enumerate(list_of_fruits):\n",
    "    print(f\"{fruit} is located in {index_fruit} index\")"
   ]
  },
  {
   "cell_type": "markdown",
   "metadata": {},
   "source": [
    "The similar approach can be used with tuples, sets and dictionaries. "
   ]
  },
  {
   "cell_type": "code",
   "execution_count": 45,
   "metadata": {},
   "outputs": [],
   "source": [
    "api_response = {\n",
    "    \"title\": \"Python Basics\",\n",
    "    \"page_count\": 635,\n",
    "    \"pub_date\": \"2021-03-16\",\n",
    "    \"authors\": [\n",
    "        {\"name\": \"David Amos\"},\n",
    "        {\"name\": \"Joanna Jablonski\"},\n",
    "        {\"name\": \"Dan Bader\"},\n",
    "        {\"name\": \"Fletcher Heisler\"}\n",
    "    ],\n",
    "    \"isbn13\": \"978-1775093329\",\n",
    "    \"genre\": \"Education\"\n",
    "}\n",
    "\n",
    "for key, value in api_response.items():\n",
    "        print(key, '->', value)"
   ]
  },
  {
   "cell_type": "code",
   "execution_count": 46,
   "metadata": {},
   "outputs": [
    {
     "name": "stdout",
     "output_type": "stream",
     "text": [
      "title -> Python Basics\n",
      "page_count -> 635\n",
      "pub_date -> 2021-03-16\n",
      "authors -> [{'name': 'David Amos'}, {'name': 'Joanna Jablonski'}, {'name': 'Dan Bader'}, {'name': 'Fletcher Heisler'}]\n",
      "isbn13 -> 978-1775093329\n",
      "genre -> Education\n",
      "epoch 0\n",
      "epoch 1\n",
      "epoch 2\n",
      "Found the fruit, terminating loop\n"
     ]
    }
   ],
   "source": [
    "list_of_fruits = [\"apple\", \"banana\", \"cherry\", \"apple\", \"cherry\", \"percimon\"]\n",
    "epoch = 0\n",
    "while epoch < len(list_of_fruits):\n",
    "    print(f\"epoch {epoch}\")\n",
    "    if list_of_fruits[epoch] == \"cherry\":\n",
    "        print(f\"Found the fruit, terminating loop\")\n",
    "        break\n",
    "    epoch+=1"
   ]
  },
  {
   "cell_type": "markdown",
   "metadata": {},
   "source": [
    "## If ... else statement "
   ]
  },
  {
   "cell_type": "markdown",
   "metadata": {},
   "source": [
    "The if stateme has the following syntax: \n",
    "\n",
    "```python\n",
    "if condition:           \n",
    "    #Statements to execute if condition is true\n",
    "```\n"
   ]
  },
  {
   "cell_type": "markdown",
   "metadata": {},
   "source": [
    "Let's generate some random numbers, if the number is greater than some threshold, it will stop the execution"
   ]
  },
  {
   "cell_type": "code",
   "execution_count": 47,
   "metadata": {},
   "outputs": [
    {
     "name": "stdout",
     "output_type": "stream",
     "text": [
      "got value 1\n",
      "got value 6\n",
      "got value 0\n",
      "got value 1\n",
      "got value 0\n",
      "got value 5\n",
      "got value 3\n",
      "got value 6\n",
      "got value 4\n",
      "got value 2\n",
      "got value 2\n",
      "got value 2\n",
      "got value 7\n",
      "got value 6\n",
      "got value 2\n",
      "got value 4\n",
      "got value 7\n",
      "got value 5\n",
      "got value 1\n",
      "got value 2\n",
      "got value 6\n",
      "got value 9\n",
      "Stopping execution, got value of 9\n"
     ]
    }
   ],
   "source": [
    "from random import randint\n",
    "\n",
    "while True:\n",
    "    value = randint(0, 10)\n",
    "    print(f\"got value {value}\")\n",
    "    if value >= 8:\n",
    "        print(f\"Stopping execution, got value of {value}\")\n",
    "        break\n",
    "    "
   ]
  },
  {
   "cell_type": "markdown",
   "metadata": {},
   "source": [
    "Let's work with elif"
   ]
  },
  {
   "cell_type": "code",
   "execution_count": 48,
   "metadata": {},
   "outputs": [
    {
     "name": "stdout",
     "output_type": "stream",
     "text": [
      "got value 40\n",
      "Got value bigger than any threshold\n"
     ]
    }
   ],
   "source": [
    "while True:\n",
    "    value = randint(0, 50)\n",
    "    print(f\"got value {value}\")\n",
    "    if value>=0 and value<=10:\n",
    "        print(f\"Got value between 0 and 10, the value is {value}\")\n",
    "    elif value>=11 and value<=20:\n",
    "        print(f\"Got value between 11 and 20, the value is {value}\")\n",
    "    elif value>=21 and value<=30:\n",
    "        print(f\"Got value between 31 and 30, the value is {value}\")\n",
    "    else:\n",
    "        print(f\"Got value bigger than any threshold\")\n",
    "        break"
   ]
  },
  {
   "cell_type": "markdown",
   "metadata": {
    "tags": []
   },
   "source": [
    "## Functions"
   ]
  },
  {
   "cell_type": "markdown",
   "metadata": {},
   "source": [
    "As in any other language, a function is considered a block of related code to perform a task. The idea behind a function is to put some commonly or repeatedly code to be reused. The syntax of a functions is below. \n",
    "```python\n",
    "def function_name(parameters):\n",
    "    \"\"\"docstring\"\"\"\n",
    "    statement(s)\n",
    "    return expression\n",
    "```  "
   ]
  },
  {
   "cell_type": "markdown",
   "metadata": {},
   "source": [
    "A function can receive paramaters or no paramters at all. Furthermore, the return statement also is not mandatory, it will depend of function's nature."
   ]
  },
  {
   "cell_type": "code",
   "execution_count": 49,
   "metadata": {},
   "outputs": [
    {
     "name": "stdout",
     "output_type": "stream",
     "text": [
      "Working in this notebook\n"
     ]
    }
   ],
   "source": [
    "def print_function():\n",
    "  print(\"Working in this notebook\")\n",
    "         \n",
    "print_function()"
   ]
  },
  {
   "cell_type": "markdown",
   "metadata": {},
   "source": [
    "Let's see a little more complex function"
   ]
  },
  {
   "cell_type": "code",
   "execution_count": 50,
   "metadata": {},
   "outputs": [
    {
     "name": "stdout",
     "output_type": "stream",
     "text": [
      "Calling function to_upper_case : ANDRES\n"
     ]
    }
   ],
   "source": [
    "def convert_name_to_upper_case(surname):\n",
    "    return surname.upper()\n",
    "\n",
    "print(f\"Calling function to_upper_case : {convert_name_to_upper_case('andres')}\")"
   ]
  },
  {
   "cell_type": "markdown",
   "metadata": {},
   "source": [
    "A function can have as many arguments/paramters when called"
   ]
  },
  {
   "cell_type": "code",
   "execution_count": 51,
   "metadata": {},
   "outputs": [
    {
     "name": "stdout",
     "output_type": "stream",
     "text": [
      "Calling function to_upper_case : ('ANDRES', 'FELIPE', 'ECHEVERRI')\n"
     ]
    }
   ],
   "source": [
    "def convert_name_to_upper_case(surname, middle_name, last_name):\n",
    "    return surname.upper(), middle_name.upper(), last_name.upper()\n",
    "\n",
    "print(f\"Calling function to_upper_case : {convert_name_to_upper_case('andres', 'felipe', 'echeverri')}\")"
   ]
  },
  {
   "cell_type": "markdown",
   "metadata": {},
   "source": [
    "What would happen if I don't know how many paramters are passed or returned. It might be a poor function desing. Nervertheless, it is possible to pass a variable number of arguments to a function *args are used to pass a non-key worded, variable-lenght argument list. Let's check it out."
   ]
  },
  {
   "cell_type": "code",
   "execution_count": 52,
   "metadata": {},
   "outputs": [
    {
     "name": "stdout",
     "output_type": "stream",
     "text": [
      "Calling function to_upper_case : ['ANDRES', 'FELIPE', 'ECHEVERRI']\n"
     ]
    }
   ],
   "source": [
    "def convert_name_to_upper_case(*args):\n",
    "    return_args = []\n",
    "    for arg in args:\n",
    "        return_args.append(arg.upper())\n",
    "    return return_args\n",
    "        \n",
    "\n",
    "print(f\"Calling function to_upper_case : {convert_name_to_upper_case('andres', 'felipe', 'echeverri')}\")"
   ]
  },
  {
   "cell_type": "markdown",
   "metadata": {},
   "source": [
    "The args are passed to the function an unpacked as tuple. Howe many arguments can I pass, as many as you might want.\n",
    "\n",
    "Similar example can be done by using key worded arguments or kwargs.\n"
   ]
  },
  {
   "cell_type": "code",
   "execution_count": 53,
   "metadata": {},
   "outputs": [
    {
     "name": "stdout",
     "output_type": "stream",
     "text": [
      "{'surname': 'andres', 'middlename': 'felipe', 'lastname': 'echeverri'}\n",
      "andres\n",
      "felipe\n",
      "echeverri\n",
      "Calling function to_upper_case : ['ANDRES', 'FELIPE', 'ECHEVERRI']\n"
     ]
    }
   ],
   "source": [
    "def convert_name_to_upper_case(**kwargs):\n",
    "    print(kwargs)\n",
    "    return_args = []\n",
    "    for key, item in kwargs.items():\n",
    "        print(item)\n",
    "        return_args.append(item.upper())\n",
    "    return return_args\n",
    "        \n",
    "\n",
    "print(f\"Calling function to_upper_case : {convert_name_to_upper_case(surname='andres', middlename='felipe', lastname='echeverri')}\")"
   ]
  },
  {
   "cell_type": "markdown",
   "metadata": {},
   "source": [
    "Is it a good practice to do it? Let's say that are mixed feelings about it. Just remember the following. Explicit is better than implicit, this is the zen of Python. Not knowing how many parameters are passed to a function can be a debugging issue, which could cause an unpredictable behavior. A rule of thumb might be avoid them if possible. "
   ]
  },
  {
   "cell_type": "markdown",
   "metadata": {},
   "source": [
    "<center>\n",
    "    <img src=\"../images/question_mark.png\" style=\"width: 200px;\"/>\n",
    "</center>"
   ]
  },
  {
   "cell_type": "markdown",
   "metadata": {},
   "source": [
    "Let's do a small useful example, let's have a function that adds some numbers, how many numbers can I add? As many as you want, let's say the number can be uknown. "
   ]
  },
  {
   "cell_type": "code",
   "execution_count": 54,
   "metadata": {},
   "outputs": [
    {
     "name": "stdout",
     "output_type": "stream",
     "text": [
      "the total of the the addition is 23.6\n",
      "the total of the the addition is 4.423\n"
     ]
    }
   ],
   "source": [
    "def add_numbers(*args):\n",
    "    total = 0\n",
    "    for number in args:\n",
    "        total+=number\n",
    "    return total\n",
    "\n",
    "print(f\"the total of the the addition is {add_numbers(1.2,2.4,4,12,4)}\")\n",
    "print(f\"the total of the the addition is {add_numbers(1,3.423)}\")"
   ]
  },
  {
   "cell_type": "markdown",
   "metadata": {},
   "source": [
    "So far, we could master some of the tricks of Python. One question that arises is python functions are called/passed by value or reference? Before answering this, let's discuss something that we have put aside for a while: mutable and inmutable objects, some of this was discussed while defining some of the basic python data structures. Find a list below of each of them."
   ]
  },
  {
   "cell_type": "markdown",
   "metadata": {},
   "source": [
    "Mutable objects :\n",
    "- list \n",
    "- dict \n",
    "- set \n",
    "- byte array"
   ]
  },
  {
   "cell_type": "markdown",
   "metadata": {},
   "source": [
    "Inmutable objects : \n",
    "- int\n",
    "- float\n",
    "- complex\n",
    "- string\n",
    "- tuple\n",
    "- frozen set [note: immutable version of set]\n",
    "- bytes"
   ]
  },
  {
   "cell_type": "markdown",
   "metadata": {},
   "source": [
    "Why is important to know which are inmutables and mutables? The answer is as follow. If an object is immutable(not modifiable), then the modified value is not available outside the function. Likewise, if an  object is mutable (modifiable), then modified value is available outside the function. This will save you a lot of debugging time."
   ]
  },
  {
   "cell_type": "code",
   "execution_count": 55,
   "metadata": {},
   "outputs": [
    {
     "name": "stdout",
     "output_type": "stream",
     "text": [
      "10 4481567312\n",
      "1 4481567024\n"
     ]
    }
   ],
   "source": [
    "def val(x):\n",
    "    x = 10\n",
    "    print(x, id(x))\n",
    "\n",
    "x = 1\n",
    "val(x)\n",
    "print(x, id(x))"
   ]
  },
  {
   "cell_type": "markdown",
   "metadata": {},
   "source": [
    "A new object was created in memory, because integers are inmutable"
   ]
  },
  {
   "cell_type": "code",
   "execution_count": 56,
   "metadata": {},
   "outputs": [
    {
     "name": "stdout",
     "output_type": "stream",
     "text": [
      "outside of the function: value ->[17, 3, 8], memory address -> 4536815808\n",
      "inside of the function: value -> [17, 3, 8, 4], memory addreess -> 4536815808\n",
      "outside of the function after function call: value ->[17, 3, 8, 4], memory address -> 4536815808\n"
     ]
    }
   ],
   "source": [
    "def val(list_function):\n",
    "    list_function.append(4)\n",
    "    print(f\"inside of the function: value -> {list_function}, memory addreess -> {id(list_function)}\")\n",
    "\n",
    "list_of_numbers = [17, 3, 8]\n",
    "print(f\"outside of the function: value ->{list_of_numbers}, memory address -> {id(list_of_numbers)}\")\n",
    "val(list_of_numbers)\n",
    "print(f\"outside of the function after function call: value ->{list_of_numbers}, memory address -> {id(list_of_numbers)}\")"
   ]
  },
  {
   "cell_type": "markdown",
   "metadata": {},
   "source": [
    "A new object is not created in the case of working with a list. List are mutable objects that can be modified. The function modified the list that was passed, but even after it finishes its execution, the list_number is still having the modified version, this is because the same object in memory was used and modified. As I said before, this will save a lot of debbugging time"
   ]
  },
  {
   "cell_type": "markdown",
   "metadata": {},
   "source": [
    "Let's assume that I'm working with a list that is passed to a function, but I want to modified and return a completely new value. How I could do this? "
   ]
  },
  {
   "cell_type": "code",
   "execution_count": 57,
   "metadata": {},
   "outputs": [
    {
     "name": "stdout",
     "output_type": "stream",
     "text": [
      "outside of the function: value ->[17, 3, 8], memory address -> 4536970560\n",
      "outside of the function after function call: value ->[17, 3, 8], memory address -> 4536970560\n",
      "returned list after function call: value ->[17, 3, 8, 4], memory address -> 4536819456\n"
     ]
    }
   ],
   "source": [
    "import copy\n",
    "\n",
    "def val(list_function):\n",
    "    new_list = copy.deepcopy(list_function)\n",
    "    new_list.append(4)\n",
    "    return new_list\n",
    "    \n",
    "\n",
    "list_of_numbers = [17, 3, 8]\n",
    "print(f\"outside of the function: value ->{list_of_numbers}, memory address -> {id(list_of_numbers)}\")\n",
    "returned_list = val(list_of_numbers)\n",
    "print(f\"outside of the function after function call: value ->{list_of_numbers}, memory address -> {id(list_of_numbers)}\")\n",
    "print(f\"returned list after function call: value ->{returned_list}, memory address -> {id(returned_list)}\")"
   ]
  },
  {
   "cell_type": "markdown",
   "metadata": {},
   "source": [
    "You might be thinking, why not using `new_list = list_function`? This will create a shallow copy, which also points to the same memory address. \n",
    "\n",
    "Also, what would happen if a very big list is passed? modified and needs to be returned? In fact, the return is not needed at all. This gets very expensive for arbitrarily large and deeply nested objects."
   ]
  },
  {
   "cell_type": "markdown",
   "metadata": {},
   "source": [
    "Furthermore, when working with functions, a good practice that was an addition not that many years ago is function annotations. When working in larger groups, code will be reused, refactored and tested, best practice to keep everything explicit, clear and concize. While python is dinamically typed program language, it won't force to return or to pass the typed paramter. However, it will help with debugging and some other code standards."
   ]
  },
  {
   "cell_type": "code",
   "execution_count": 58,
   "metadata": {},
   "outputs": [
    {
     "name": "stdout",
     "output_type": "stream",
     "text": [
      "[1, 1, 2, 3, 5, 8, 13, 21, 34, 55]\n"
     ]
    }
   ],
   "source": [
    "def fib(n:'int', output:'list'=[])-> 'list':\n",
    "    if n == 0:\n",
    "        return output\n",
    "    else:\n",
    "        if len(output)< 2:\n",
    "            output.append(1)\n",
    "            fib(n-1, output)\n",
    "        else:\n",
    "            last = output[-1]\n",
    "            second_last = output[-2]\n",
    "            output.append(last + second_last)\n",
    "            fib(n-1, output)\n",
    "        return output\n",
    "print(fib(10))"
   ]
  },
  {
   "cell_type": "markdown",
   "metadata": {},
   "source": [
    "## Lambda functions"
   ]
  },
  {
   "cell_type": "markdown",
   "metadata": {},
   "source": [
    "Lmabda functions are basically anonymous functions. The lambda keyword is used to define it, find an example below.\n",
    "\n",
    "```python\n",
    "lambda arguments : expression\n",
    "```"
   ]
  },
  {
   "cell_type": "markdown",
   "metadata": {},
   "source": [
    "Lambda can have as many arguments, but only one statement to be evaluated and returned. The true power of lambda comes when used with map, filter and reduce. Using it by itself could lead to debugging issues. \n"
   ]
  },
  {
   "cell_type": "code",
   "execution_count": 59,
   "metadata": {},
   "outputs": [
    {
     "name": "stdout",
     "output_type": "stream",
     "text": [
      "Mr. ANDRES\n"
     ]
    }
   ],
   "source": [
    "name = lambda full_name: \"Mr. \" + full_name.upper() \n",
    "print(name(\"Andres\"))"
   ]
  },
  {
   "cell_type": "markdown",
   "metadata": {},
   "source": [
    "If you have worked in JS, you might have heard about inmediately invoked functions expresions. Would it possible to write down something similar in Python? Write down the previous code as an IFFE. "
   ]
  },
  {
   "cell_type": "code",
   "execution_count": 60,
   "metadata": {},
   "outputs": [
    {
     "name": "stdout",
     "output_type": "stream",
     "text": [
      "Mr. ANDRES\n"
     ]
    }
   ],
   "source": [
    "print((lambda full_name: \"Mr. \" + full_name.upper())(\"Andres\"))"
   ]
  },
  {
   "cell_type": "markdown",
   "metadata": {},
   "source": [
    "Another way to call a lambda function can be as follow:"
   ]
  },
  {
   "cell_type": "code",
   "execution_count": 61,
   "metadata": {},
   "outputs": [
    {
     "data": {
      "text/plain": [
       "<function __main__.<lambda>(full_name)>"
      ]
     },
     "execution_count": 61,
     "metadata": {},
     "output_type": "execute_result"
    }
   ],
   "source": [
    "(lambda full_name: \"Mr. \" + full_name.upper())"
   ]
  },
  {
   "cell_type": "code",
   "execution_count": 62,
   "metadata": {},
   "outputs": [
    {
     "data": {
      "text/plain": [
       "'Mr. ANDRES'"
      ]
     },
     "execution_count": 62,
     "metadata": {},
     "output_type": "execute_result"
    }
   ],
   "source": [
    "_(\"Andres\")"
   ]
  },
  {
   "cell_type": "markdown",
   "metadata": {},
   "source": [
    "## Map, Filter and Reduce"
   ]
  },
  {
   "cell_type": "markdown",
   "metadata": {},
   "source": [
    "Let's start talking about map function. Map simply applies a function to whatever iterator type. It synstax is as follow."
   ]
  },
  {
   "cell_type": "markdown",
   "metadata": {},
   "source": [
    "```python\n",
    "map(fun, iter)\n",
    "```"
   ]
  },
  {
   "cell_type": "code",
   "execution_count": 63,
   "metadata": {},
   "outputs": [
    {
     "name": "stdout",
     "output_type": "stream",
     "text": [
      "['APPLE', 'STRAWBERRY', 'BANNANA']\n"
     ]
    }
   ],
   "source": [
    "def to_upper_case(string_value):\n",
    "    return string_value.upper()\n",
    "\n",
    "result = map(to_upper_case, [\"apple\", \"strawberry\", \"bannana\"])\n",
    "print(list(result))"
   ]
  },
  {
   "cell_type": "markdown",
   "metadata": {},
   "source": [
    "If you see, the `to_upper_case function` is simple enough to be used in a single statement. "
   ]
  },
  {
   "cell_type": "code",
   "execution_count": 64,
   "metadata": {},
   "outputs": [
    {
     "name": "stdout",
     "output_type": "stream",
     "text": [
      "['APPLE', 'STRAWBERRY', 'BANNANA']\n"
     ]
    }
   ],
   "source": [
    "result = map(lambda string_value : string_value.upper() , [\"apple\", \"strawberry\", \"bannana\"])\n",
    "print(list(result))"
   ]
  },
  {
   "cell_type": "markdown",
   "metadata": {},
   "source": [
    "The previous example is used to show how lambda and defined functions are used. But, the map could be used in a different way with the same result. "
   ]
  },
  {
   "cell_type": "code",
   "execution_count": 65,
   "metadata": {},
   "outputs": [
    {
     "name": "stdout",
     "output_type": "stream",
     "text": [
      "['APPLE', 'STRAWBERRY', 'BANNANA']\n"
     ]
    }
   ],
   "source": [
    "result = map(str.upper , [\"apple\", \"strawberry\", \"bannana\"])\n",
    "print(list(result))"
   ]
  },
  {
   "cell_type": "markdown",
   "metadata": {},
   "source": [
    "Let's assume that a request to an API has brougth the following numbers are the payrolls to some of the employees. In order to calculate the 10% tax increment in the result. The developer will have to first turn them into numbers that allow mathematical operations, and then add the 10% tax to each payroll. "
   ]
  },
  {
   "cell_type": "code",
   "execution_count": 66,
   "metadata": {},
   "outputs": [
    {
     "data": {
      "text/plain": [
       "[3850.0, 3861.253, 4668.631, 5843.464, 4655.552]"
      ]
     },
     "execution_count": 66,
     "metadata": {},
     "output_type": "execute_result"
    }
   ],
   "source": [
    "api_response = {\"payrolls\" : [\"3500\", \"3510.23\", \"4244.21\", \"5312.24\", \"4232.32\"]}\n",
    "list(map(lambda x : x + x*0.1, list(map(float,api_response[\"payrolls\"]))))"
   ]
  },
  {
   "cell_type": "markdown",
   "metadata": {},
   "source": [
    "Let's now work with filter. As you might have deducted, the filter allows you to process an iterable and extract the items that satisfy a condition. Filter also allows to apply function and produce a new iterable, let's see some examples."
   ]
  },
  {
   "cell_type": "markdown",
   "metadata": {},
   "source": [
    "```python\n",
    "filter(fun, iter)\n",
    "```"
   ]
  },
  {
   "cell_type": "code",
   "execution_count": 67,
   "metadata": {},
   "outputs": [],
   "source": [
    "api_numbers = [1,2,3,4,5,6,10,23,43,43,44,45,46,47,79,89,90,101,102,103]"
   ]
  },
  {
   "cell_type": "markdown",
   "metadata": {},
   "source": [
    "Let's suppose that a request to an api brought the previous list, let's find the eve and odd numbers."
   ]
  },
  {
   "cell_type": "code",
   "execution_count": 68,
   "metadata": {},
   "outputs": [
    {
     "name": "stdout",
     "output_type": "stream",
     "text": [
      "Even numbers:[2, 4, 6, 10, 44, 46, 90, 102]\n"
     ]
    }
   ],
   "source": [
    "def check_even(number):\n",
    "    if number % 2 == 0:\n",
    "          return True  \n",
    "\n",
    "    return False\n",
    "\n",
    "even_numbers_iter = filter(check_even, api_numbers)\n",
    "even_number_list = list(even_numbers_iter)\n",
    "print(f\"Even numbers:{even_number_list}\")"
   ]
  },
  {
   "cell_type": "markdown",
   "metadata": {},
   "source": [
    "The previous example works well. But there is a better way to do this. "
   ]
  },
  {
   "cell_type": "code",
   "execution_count": 69,
   "metadata": {},
   "outputs": [
    {
     "name": "stdout",
     "output_type": "stream",
     "text": [
      "Odd numbers:[1, 3, 5, 23, 43, 43, 45, 47, 79, 89, 101, 103]\n"
     ]
    }
   ],
   "source": [
    "odd_numbers_list = list(filter(lambda number: True if number % 2 != 0 else False, api_numbers))\n",
    "print(f\"Odd numbers:{odd_numbers_list}\")"
   ]
  },
  {
   "cell_type": "markdown",
   "metadata": {},
   "source": [
    "Reduce is one of those functionalities that is tricky to understand at first, but when is understanded, it can be very powerful. While reduce is not as used as lambda, map and filter, yet. There is some code that could not be done easily without reduce. "
   ]
  },
  {
   "cell_type": "markdown",
   "metadata": {},
   "source": [
    "Let's assume that an UI designer will need the biggest name in a list to know which is the best font to fit the names. You could use the max() built in function. However, let's find the biggest name of the following list using reduce. "
   ]
  },
  {
   "cell_type": "code",
   "execution_count": 70,
   "metadata": {},
   "outputs": [],
   "source": [
    "import functools\n",
    "names=[\"Samuel L Jackson\", \"Angelina Jolie\", \"Giovanni Ribisi\", \"Barry Pepper\", \"Seth MacFarlane\", \"Bryan Cranston\", \"Paul Giamatti\"]"
   ]
  },
  {
   "cell_type": "code",
   "execution_count": 71,
   "metadata": {},
   "outputs": [
    {
     "name": "stdout",
     "output_type": "stream",
     "text": [
      "The maximum element of the list is : Samuel L Jackson\n"
     ]
    }
   ],
   "source": [
    "print(\"The maximum element of the list is : \", end=\"\")\n",
    "print(functools.reduce(lambda name_n, name_n_1: name_n if len(name_n) > len(name_n_1) else len(name_n_1), names))"
   ]
  },
  {
   "cell_type": "markdown",
   "metadata": {},
   "source": [
    "## List comprehension"
   ]
  },
  {
   "cell_type": "markdown",
   "metadata": {},
   "source": [
    "List comprehension is a feature that allows to work with iterables in an easy way. It makes the code easier to read and understand and in just a single line of code. \n",
    "\n",
    "Let's pretend that we need to generate a list of numbers that will be used in a code. This is possible to do with an easey for loop, however, let's chek the power or list comprhenshion. "
   ]
  },
  {
   "cell_type": "code",
   "execution_count": 72,
   "metadata": {},
   "outputs": [
    {
     "name": "stdout",
     "output_type": "stream",
     "text": [
      "List : [0, 1, 2, 3, 4, 5, 6, 7, 8, 9, 10, 11, 12, 13, 14, 15, 16, 17, 18, 19]\n"
     ]
    }
   ],
   "source": [
    "list_of_numbers =  []\n",
    "for number in range(20):\n",
    "    list_of_numbers.append(number)\n",
    "\n",
    "print(f\"List : {list_of_numbers}\")"
   ]
  },
  {
   "cell_type": "markdown",
   "metadata": {},
   "source": [
    "Using the list comprehension would be much easier. "
   ]
  },
  {
   "cell_type": "code",
   "execution_count": 73,
   "metadata": {},
   "outputs": [
    {
     "name": "stdout",
     "output_type": "stream",
     "text": [
      "List of numbers : [0, 1, 2, 3, 4, 5, 6, 7, 8, 9, 10, 11, 12, 13, 14, 15, 16, 17, 18, 19]\n"
     ]
    }
   ],
   "source": [
    "list_of_numbers = [number for number in range(20)]\n",
    "print(f\"List of numbers : {list_of_numbers}\")"
   ]
  },
  {
   "cell_type": "markdown",
   "metadata": {},
   "source": [
    "The result is the same! easier to read. But wait, list comprehension can do much more."
   ]
  },
  {
   "cell_type": "markdown",
   "metadata": {},
   "source": [
    "Let's pretend there is an app that wants to generate the list of numbers and square them, as we saw before, we could use the for loop, let's do it with a list comprhension. "
   ]
  },
  {
   "cell_type": "code",
   "execution_count": 74,
   "metadata": {},
   "outputs": [
    {
     "name": "stdout",
     "output_type": "stream",
     "text": [
      "List of numbers : [0, 1, 4, 9, 16, 25, 36, 49, 64, 81, 100, 121, 144, 169, 196, 225, 256, 289, 324, 361]\n"
     ]
    }
   ],
   "source": [
    "list_of_numbers = [number**2 for number in range(20)]\n",
    "print(f\"List of numbers : {list_of_numbers}\")"
   ]
  },
  {
   "cell_type": "markdown",
   "metadata": {},
   "source": [
    "Let's generate the same list, but let's also remove the eve nnumbers, this would involve adding anf if statement. "
   ]
  },
  {
   "cell_type": "code",
   "execution_count": 75,
   "metadata": {},
   "outputs": [],
   "source": [
    "list_of_numbers =  []\n",
    "for number in range(20):\n",
    "    number_squared = number**2\n",
    "    if number_squared%2 == 0:\n",
    "        list_of_numbers.append(number_squared)\n",
    "    \n",
    "\n",
    "print(f\"List : {list_of_numbers}\")"
   ]
  },
  {
   "cell_type": "code",
   "execution_count": 76,
   "metadata": {},
   "outputs": [
    {
     "name": "stdout",
     "output_type": "stream",
     "text": [
      "List : [0, 4, 16, 36, 64, 100, 144, 196, 256, 324]\n",
      "List of even numbers : [0, 4, 16, 36, 64, 100, 144, 196, 256, 324]\n"
     ]
    }
   ],
   "source": [
    "list_of_even_numbers = [number**2 for number in range(20) if number%2==0]\n",
    "print(f\"List of even numbers : {list_of_even_numbers}\")"
   ]
  },
  {
   "cell_type": "markdown",
   "metadata": {},
   "source": [
    "Both codes above are correct, but you can tell the difference how easy is to build an iterble and process it at the same time using list comprehension. "
   ]
  },
  {
   "cell_type": "markdown",
   "metadata": {},
   "source": [
    "## Dictionary comprehension"
   ]
  },
  {
   "cell_type": "markdown",
   "metadata": {},
   "source": [
    "While it is similar to list comprehension, the result is a dictionary. Let's show an example."
   ]
  },
  {
   "cell_type": "code",
   "execution_count": 77,
   "metadata": {},
   "outputs": [],
   "source": [
    "from pprint import pp\n",
    "list_number_1 = [1,2,3,4,5]\n",
    "list_number_2 = [\"one\", \"two\", \"three\", \"four\", \"five\"]"
   ]
  },
  {
   "cell_type": "code",
   "execution_count": 78,
   "metadata": {},
   "outputs": [
    {
     "name": "stdout",
     "output_type": "stream",
     "text": [
      "{1: 'one', 2: 'two', 3: 'three', 4: 'four', 5: 'five'}\n"
     ]
    }
   ],
   "source": [
    "dict_numbers = {key: value for key, value in zip(list_number_1, list_number_2)}\n",
    "pp(dict_numbers)"
   ]
  },
  {
   "cell_type": "markdown",
   "metadata": {},
   "source": [
    "Writing the code above in a for loop would take several lines."
   ]
  },
  {
   "cell_type": "code",
   "execution_count": 79,
   "metadata": {},
   "outputs": [
    {
     "name": "stdout",
     "output_type": "stream",
     "text": [
      "{1: 'one', 2: 'two', 3: 'three', 4: 'four', 5: 'five'}\n"
     ]
    }
   ],
   "source": [
    "dict_numbers = {}\n",
    "for number in zip(list_number_1,list_number_2):\n",
    "    dict_numbers[number[0]] = number[1]\n",
    "print(dict_numbers)"
   ]
  },
  {
   "cell_type": "markdown",
   "metadata": {
    "tags": []
   },
   "source": [
    "There also exist set comprehension, and generator comprehension. The later is type of generator that we not have been discussed yet. But will discuss later on. "
   ]
  },
  {
   "cell_type": "markdown",
   "metadata": {},
   "source": [
    "## Classes"
   ]
  },
  {
   "cell_type": "markdown",
   "metadata": {},
   "source": [
    "Finally we have reached a very topic that will help us to understand some other topics in Python. OOP is a programming paradigm that is very popular among Python programmers. The good think about OOP is that the code can be created in such a wawy that the final user of the class do not need to know how the class was implemented, it only needs to know how to use it. Classes help us to modelate things like a person, or define relationships between companies and employees. "
   ]
  },
  {
   "cell_type": "code",
   "execution_count": 80,
   "metadata": {},
   "outputs": [
    {
     "name": "stdout",
     "output_type": "stream",
     "text": [
      "<__main__.Person object at 0x10dbace20>\n"
     ]
    }
   ],
   "source": [
    "class Person(): \n",
    "    pass\n",
    "\n",
    "p = Person()\n",
    "print(p)"
   ]
  },
  {
   "cell_type": "markdown",
   "metadata": {},
   "source": [
    "The previous example shows the most basic class and how it can instantiated. The difference between a class and instance are that the class is basically the template structure that can be used to create an object, a class do not hold any data, the instance of a class is the object created using the class with the data for an specific entity, an instance of the class Person is a person. In the previous example the pass statement is a placeholder that helps to avoid errors when empty code is not allowed. Simply, when the pass statement is executed, nothing happens.\n",
    "\n",
    "Let's check a more complicated example. "
   ]
  },
  {
   "cell_type": "code",
   "execution_count": 81,
   "metadata": {},
   "outputs": [],
   "source": [
    "class Person(): \n",
    "    def __init__(self, name, age, identity_card):\n",
    "        self.name = name\n",
    "        self.age = age\n",
    "        self.identity_card = identity_card"
   ]
  },
  {
   "cell_type": "markdown",
   "metadata": {},
   "source": [
    "The class person looks now a little more complicated. This is the point where is needed to introduce the magic methods in detail, and some other stuff, so let's discuss them. \n"
   ]
  },
  {
   "cell_type": "markdown",
   "metadata": {},
   "source": [
    "In the previous class, it is possible to see the magic method __init__, but there are many more, let's see some that are very important. Remember that at the beginning of this course, it is said that almost everything is an object in python. Let's work with some simple data structures and variables."
   ]
  },
  {
   "cell_type": "code",
   "execution_count": 82,
   "metadata": {},
   "outputs": [],
   "source": [
    "var = - 1.4353\n",
    "name = \"Leroy Jenkins\"\n"
   ]
  },
  {
   "cell_type": "markdown",
   "metadata": {},
   "source": [
    "if we want to see what are the methods available for each of them, we can use the dir() method. \n"
   ]
  },
  {
   "cell_type": "code",
   "execution_count": 83,
   "metadata": {},
   "outputs": [
    {
     "name": "stdout",
     "output_type": "stream",
     "text": [
      "(\"methods allowed for var_1 : ['__abs__', '__add__', '__bool__', '__ceil__', \"\n",
      " \"'__class__', '__delattr__', '__dir__', '__divmod__', '__doc__', '__eq__', \"\n",
      " \"'__float__', '__floor__', '__floordiv__', '__format__', '__ge__', \"\n",
      " \"'__getattribute__', '__getformat__', '__getnewargs__', '__gt__', '__hash__', \"\n",
      " \"'__init__', '__init_subclass__', '__int__', '__le__', '__lt__', '__mod__', \"\n",
      " \"'__mul__', '__ne__', '__neg__', '__new__', '__pos__', '__pow__', '__radd__', \"\n",
      " \"'__rdivmod__', '__reduce__', '__reduce_ex__', '__repr__', '__rfloordiv__', \"\n",
      " \"'__rmod__', '__rmul__', '__round__', '__rpow__', '__rsub__', '__rtruediv__', \"\n",
      " \"'__set_format__', '__setattr__', '__sizeof__', '__str__', '__sub__', \"\n",
      " \"'__subclasshook__', '__truediv__', '__trunc__', 'as_integer_ratio', \"\n",
      " \"'conjugate', 'fromhex', 'hex', 'imag', 'is_integer', 'real']\")\n",
      "(\"methods allowed for name : ['__add__', '__class__', '__contains__', \"\n",
      " \"'__delattr__', '__dir__', '__doc__', '__eq__', '__format__', '__ge__', \"\n",
      " \"'__getattribute__', '__getitem__', '__getnewargs__', '__gt__', '__hash__', \"\n",
      " \"'__init__', '__init_subclass__', '__iter__', '__le__', '__len__', '__lt__', \"\n",
      " \"'__mod__', '__mul__', '__ne__', '__new__', '__reduce__', '__reduce_ex__', \"\n",
      " \"'__repr__', '__rmod__', '__rmul__', '__setattr__', '__sizeof__', '__str__', \"\n",
      " \"'__subclasshook__', 'capitalize', 'casefold', 'center', 'count', 'encode', \"\n",
      " \"'endswith', 'expandtabs', 'find', 'format', 'format_map', 'index', \"\n",
      " \"'isalnum', 'isalpha', 'isascii', 'isdecimal', 'isdigit', 'isidentifier', \"\n",
      " \"'islower', 'isnumeric', 'isprintable', 'isspace', 'istitle', 'isupper', \"\n",
      " \"'join', 'ljust', 'lower', 'lstrip', 'maketrans', 'partition', \"\n",
      " \"'removeprefix', 'removesuffix', 'replace', 'rfind', 'rindex', 'rjust', \"\n",
      " \"'rpartition', 'rsplit', 'rstrip', 'split', 'splitlines', 'startswith', \"\n",
      " \"'strip', 'swapcase', 'title', 'translate', 'upper', 'zfill']\")\n"
     ]
    }
   ],
   "source": [
    "from pprint import pp\n",
    "pp(f\"methods allowed for var_1 : {dir(var)}\")\n",
    "pp(f\"methods allowed for name : {dir(name)}\")"
   ]
  },
  {
   "cell_type": "markdown",
   "metadata": {},
   "source": [
    "Discussing all of them might take a while, but we definetly can see some of them and how can be user. "
   ]
  },
  {
   "cell_type": "code",
   "execution_count": 84,
   "metadata": {},
   "outputs": [
    {
     "name": "stdout",
     "output_type": "stream",
     "text": [
      "absolute value of var is: 1.4353\n",
      "multiplie var by -2, the result is: 2.8706\n",
      "the size of name is: 13\n",
      "Does name contains z?: False\n"
     ]
    }
   ],
   "source": [
    "print(f\"absolute value of var is: {var.__abs__()}\")\n",
    "print(f\"multiplie var by -2, the result is: {var.__mul__(-2)}\")\n",
    "print(f\"the size of name is: {name.__len__()}\")\n",
    "print(f\"Does name contains z?: {name.__contains__('z')}\")"
   ]
  },
  {
   "cell_type": "markdown",
   "metadata": {},
   "source": [
    "Now, let's see why dundeer methods are important when classes are implemented. But before that, let's also discuss the self keyword. Self simply represents the instace of the class that is currently instanciaed, similar to the \"this\" keyword in JS and c++. So, self basically points to the current object. But it does not have to be self keyword, it can be whatever keyword desired. However self is used as a good practice and it is known to be a convention already in Python. Let's go back to the previous example. "
   ]
  },
  {
   "cell_type": "code",
   "execution_count": 85,
   "metadata": {},
   "outputs": [
    {
     "name": "stdout",
     "output_type": "stream",
     "text": [
      "Object allocated in address : 4528755808\n",
      "Perron is Jon and is 32 yeards old\n",
      "Object allocated in address : 4528642992\n",
      "Perron is Maria and is 21 yeards old\n"
     ]
    }
   ],
   "source": [
    "class Person(): \n",
    "    def __init__(self, name, age, identity_card):\n",
    "        self.name = name\n",
    "        self.age = age\n",
    "        self.identity_card = identity_card\n",
    "        print(f\"Object allocated in address : {id(self)}\")\n",
    "    def show_info(self):\n",
    "        print(f\"Perron is {self.name} and is {self.age} yeards old\")\n",
    "\n",
    "p1 = Person(\"Jon\", 32, 1234)\n",
    "p1.show_info()\n",
    "p2 = Person(\"Maria\", 21, 5678)\n",
    "p2.show_info()"
   ]
  },
  {
   "cell_type": "markdown",
   "metadata": {},
   "source": [
    "Let's now use some dundeer methods "
   ]
  },
  {
   "cell_type": "code",
   "execution_count": 86,
   "metadata": {},
   "outputs": [
    {
     "name": "stdout",
     "output_type": "stream",
     "text": [
      "Object allocated in address : 4528360608\n",
      "Person is Jon and is 32 yeards old\n"
     ]
    }
   ],
   "source": [
    "class Person(): \n",
    "    def __init__(self, name, age, identity_card):\n",
    "        self.name = name\n",
    "        self.age = age\n",
    "        self.identity_card = identity_card\n",
    "        print(f\"Object allocated in address : {id(self)}\")\n",
    "    def __str__(self):\n",
    "        return (f\"Person is {self.name} and is {self.age} yeards old\")\n",
    "\n",
    "p1 = Person(\"Jon\", 32, 1234)\n",
    "print(p1)"
   ]
  },
  {
   "cell_type": "markdown",
   "metadata": {},
   "source": [
    "The str method is useful when working with print statements, it will help to know which object instance is being used. What happen if we don't have the __str__ method? "
   ]
  },
  {
   "cell_type": "code",
   "execution_count": 87,
   "metadata": {},
   "outputs": [
    {
     "name": "stdout",
     "output_type": "stream",
     "text": [
      "Object allocated in address : 4529107440\n",
      "<__main__.Person object at 0x10df4b1f0>\n"
     ]
    }
   ],
   "source": [
    "class Person(): \n",
    "    def __init__(self, name, age, identity_card):\n",
    "        self.name = name\n",
    "        self.age = age\n",
    "        self.identity_card = identity_card\n",
    "        print(f\"Object allocated in address : {id(self)}\")\n",
    "    \n",
    "p1 = Person(\"Jon\", 32, 1234)\n",
    "print(p1)"
   ]
  },
  {
   "cell_type": "markdown",
   "metadata": {},
   "source": [
    "It prints the object's instance type, something that might not be as usefull as defining the ouput. \n",
    "\n",
    "There a lot and very useful magic methods, discussing them might could take a while, let's keep working with our function let's add a custom function."
   ]
  },
  {
   "cell_type": "code",
   "execution_count": 88,
   "metadata": {},
   "outputs": [],
   "source": [
    "class Person(): \n",
    "    def __init__(self, name, age, identity_card):\n",
    "        self.name = name\n",
    "        self.age = age\n",
    "        self.identity_card = identity_card\n",
    "        print(f\"Object allocated in address : {id(self)}\")\n",
    "        \n",
    "    def __str__(self):\n",
    "        return (f\"Person is {self.name} and is {self.age} yeards old\")\n",
    "    \n",
    "    def add_gender(self, gender):\n",
    "        self.name = gender + \" \" + self.name\n",
    "    \n",
    "p1 = Person(\"Jon\", 32, 1234)\n",
    "p1.add_gender(\"Mr.\")\n",
    "print(p1)"
   ]
  },
  {
   "cell_type": "code",
   "execution_count": 89,
   "metadata": {},
   "outputs": [
    {
     "name": "stdout",
     "output_type": "stream",
     "text": [
      "Object allocated in address : 4528755808\n",
      "Person is Mr. Jon and is 32 yeards old\n",
      "['__class__',\n",
      " '__delattr__',\n",
      " '__dict__',\n",
      " '__dir__',\n",
      " '__doc__',\n",
      " '__eq__',\n",
      " '__format__',\n",
      " '__ge__',\n",
      " '__getattribute__',\n",
      " '__gt__',\n",
      " '__hash__',\n",
      " '__init__',\n",
      " '__init_subclass__',\n",
      " '__le__',\n",
      " '__lt__',\n",
      " '__module__',\n",
      " '__ne__',\n",
      " '__new__',\n",
      " '__reduce__',\n",
      " '__reduce_ex__',\n",
      " '__repr__',\n",
      " '__setattr__',\n",
      " '__sizeof__',\n",
      " '__str__',\n",
      " '__subclasshook__',\n",
      " '__weakref__',\n",
      " 'add_gender',\n",
      " 'age',\n",
      " 'identity_card',\n",
      " 'name']\n"
     ]
    }
   ],
   "source": [
    "pp(dir(p1))"
   ]
  },
  {
   "cell_type": "code",
   "execution_count": null,
   "metadata": {},
   "outputs": [],
   "source": []
  },
  {
   "cell_type": "code",
   "execution_count": null,
   "metadata": {},
   "outputs": [],
   "source": []
  }
 ],
 "metadata": {
  "interpreter": {
   "hash": "949777d72b0d2535278d3dc13498b2535136f6dfe0678499012e853ee9abcab1"
  },
  "kernelspec": {
   "display_name": "Python 3 (ipykernel)",
   "language": "python",
   "name": "python3"
  },
  "language_info": {
   "codemirror_mode": {
    "name": "ipython",
    "version": 3
   },
   "file_extension": ".py",
   "mimetype": "text/x-python",
   "name": "python",
   "nbconvert_exporter": "python",
   "pygments_lexer": "ipython3",
   "version": "3.9.6"
  }
 },
 "nbformat": 4,
 "nbformat_minor": 4
}
